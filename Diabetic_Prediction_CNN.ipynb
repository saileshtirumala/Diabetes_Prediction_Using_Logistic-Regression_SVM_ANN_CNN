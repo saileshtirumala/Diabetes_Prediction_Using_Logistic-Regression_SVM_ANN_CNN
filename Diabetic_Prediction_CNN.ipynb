{
  "nbformat": 4,
  "nbformat_minor": 0,
  "metadata": {
    "colab": {
      "name": "Diabetic_Prediction_CNN.ipynb",
      "provenance": []
    },
    "kernelspec": {
      "name": "python3",
      "display_name": "Python 3"
    },
    "language_info": {
      "name": "python"
    }
  },
  "cells": [
    {
      "cell_type": "code",
      "execution_count": 1,
      "metadata": {
        "colab": {
          "base_uri": "https://localhost:8080/"
        },
        "id": "r_mmK6dNVZ7e",
        "outputId": "86af1f2c-b17e-4c88-f6c4-e09168870a4c"
      },
      "outputs": [
        {
          "output_type": "stream",
          "name": "stdout",
          "text": [
            "Drive already mounted at /content/drive/; to attempt to forcibly remount, call drive.mount(\"/content/drive/\", force_remount=True).\n"
          ]
        }
      ],
      "source": [
        "from google.colab import drive\n",
        "drive.mount('/content/drive/')\n"
      ]
    },
    {
      "cell_type": "code",
      "source": [
        "import pandas as pd\n",
        "import numpy as np"
      ],
      "metadata": {
        "id": "WyPo6FDtVtms"
      },
      "execution_count": 2,
      "outputs": []
    },
    {
      "cell_type": "code",
      "source": [
        "ds= pd.read_csv('/content/drive/MyDrive/diabetes_data.csv')\n",
        "ds.head()"
      ],
      "metadata": {
        "colab": {
          "base_uri": "https://localhost:8080/",
          "height": 270
        },
        "id": "bXm1q5mPVvLY",
        "outputId": "6c9fe6b8-42e1-48a2-d39d-d581685fa6eb"
      },
      "execution_count": 3,
      "outputs": [
        {
          "output_type": "execute_result",
          "data": {
            "text/plain": [
              "   Age Gender Polyuria Polydipsia Sudden_weight_loss weakness Polyphagia  \\\n",
              "0   40   Male       No        Yes                 No      Yes         No   \n",
              "1   58   Male       No         No                 No      Yes         No   \n",
              "2   41   Male      Yes         No                 No      Yes        Yes   \n",
              "3   45   Male       No         No                Yes      Yes        Yes   \n",
              "4   60   Male      Yes        Yes                Yes      Yes        Yes   \n",
              "\n",
              "  Genital_thrush visual_blurring Itching Irritability delayed_healing  \\\n",
              "0             No              No     Yes           No             Yes   \n",
              "1             No             Yes      No           No              No   \n",
              "2             No              No     Yes           No             Yes   \n",
              "3            Yes              No     Yes           No             Yes   \n",
              "4             No             Yes     Yes          Yes             Yes   \n",
              "\n",
              "  partial_paresis muscle_stiffness Alopecia Obesity     class  \n",
              "0              No              Yes      Yes     Yes  Positive  \n",
              "1             Yes               No      Yes      No  Positive  \n",
              "2              No              Yes      Yes      No  Positive  \n",
              "3              No               No       No      No  Positive  \n",
              "4             Yes              Yes      Yes     Yes  Positive  "
            ],
            "text/html": [
              "\n",
              "  <div id=\"df-7edbf341-9da2-4037-8dff-a8a6e98636ce\">\n",
              "    <div class=\"colab-df-container\">\n",
              "      <div>\n",
              "<style scoped>\n",
              "    .dataframe tbody tr th:only-of-type {\n",
              "        vertical-align: middle;\n",
              "    }\n",
              "\n",
              "    .dataframe tbody tr th {\n",
              "        vertical-align: top;\n",
              "    }\n",
              "\n",
              "    .dataframe thead th {\n",
              "        text-align: right;\n",
              "    }\n",
              "</style>\n",
              "<table border=\"1\" class=\"dataframe\">\n",
              "  <thead>\n",
              "    <tr style=\"text-align: right;\">\n",
              "      <th></th>\n",
              "      <th>Age</th>\n",
              "      <th>Gender</th>\n",
              "      <th>Polyuria</th>\n",
              "      <th>Polydipsia</th>\n",
              "      <th>Sudden_weight_loss</th>\n",
              "      <th>weakness</th>\n",
              "      <th>Polyphagia</th>\n",
              "      <th>Genital_thrush</th>\n",
              "      <th>visual_blurring</th>\n",
              "      <th>Itching</th>\n",
              "      <th>Irritability</th>\n",
              "      <th>delayed_healing</th>\n",
              "      <th>partial_paresis</th>\n",
              "      <th>muscle_stiffness</th>\n",
              "      <th>Alopecia</th>\n",
              "      <th>Obesity</th>\n",
              "      <th>class</th>\n",
              "    </tr>\n",
              "  </thead>\n",
              "  <tbody>\n",
              "    <tr>\n",
              "      <th>0</th>\n",
              "      <td>40</td>\n",
              "      <td>Male</td>\n",
              "      <td>No</td>\n",
              "      <td>Yes</td>\n",
              "      <td>No</td>\n",
              "      <td>Yes</td>\n",
              "      <td>No</td>\n",
              "      <td>No</td>\n",
              "      <td>No</td>\n",
              "      <td>Yes</td>\n",
              "      <td>No</td>\n",
              "      <td>Yes</td>\n",
              "      <td>No</td>\n",
              "      <td>Yes</td>\n",
              "      <td>Yes</td>\n",
              "      <td>Yes</td>\n",
              "      <td>Positive</td>\n",
              "    </tr>\n",
              "    <tr>\n",
              "      <th>1</th>\n",
              "      <td>58</td>\n",
              "      <td>Male</td>\n",
              "      <td>No</td>\n",
              "      <td>No</td>\n",
              "      <td>No</td>\n",
              "      <td>Yes</td>\n",
              "      <td>No</td>\n",
              "      <td>No</td>\n",
              "      <td>Yes</td>\n",
              "      <td>No</td>\n",
              "      <td>No</td>\n",
              "      <td>No</td>\n",
              "      <td>Yes</td>\n",
              "      <td>No</td>\n",
              "      <td>Yes</td>\n",
              "      <td>No</td>\n",
              "      <td>Positive</td>\n",
              "    </tr>\n",
              "    <tr>\n",
              "      <th>2</th>\n",
              "      <td>41</td>\n",
              "      <td>Male</td>\n",
              "      <td>Yes</td>\n",
              "      <td>No</td>\n",
              "      <td>No</td>\n",
              "      <td>Yes</td>\n",
              "      <td>Yes</td>\n",
              "      <td>No</td>\n",
              "      <td>No</td>\n",
              "      <td>Yes</td>\n",
              "      <td>No</td>\n",
              "      <td>Yes</td>\n",
              "      <td>No</td>\n",
              "      <td>Yes</td>\n",
              "      <td>Yes</td>\n",
              "      <td>No</td>\n",
              "      <td>Positive</td>\n",
              "    </tr>\n",
              "    <tr>\n",
              "      <th>3</th>\n",
              "      <td>45</td>\n",
              "      <td>Male</td>\n",
              "      <td>No</td>\n",
              "      <td>No</td>\n",
              "      <td>Yes</td>\n",
              "      <td>Yes</td>\n",
              "      <td>Yes</td>\n",
              "      <td>Yes</td>\n",
              "      <td>No</td>\n",
              "      <td>Yes</td>\n",
              "      <td>No</td>\n",
              "      <td>Yes</td>\n",
              "      <td>No</td>\n",
              "      <td>No</td>\n",
              "      <td>No</td>\n",
              "      <td>No</td>\n",
              "      <td>Positive</td>\n",
              "    </tr>\n",
              "    <tr>\n",
              "      <th>4</th>\n",
              "      <td>60</td>\n",
              "      <td>Male</td>\n",
              "      <td>Yes</td>\n",
              "      <td>Yes</td>\n",
              "      <td>Yes</td>\n",
              "      <td>Yes</td>\n",
              "      <td>Yes</td>\n",
              "      <td>No</td>\n",
              "      <td>Yes</td>\n",
              "      <td>Yes</td>\n",
              "      <td>Yes</td>\n",
              "      <td>Yes</td>\n",
              "      <td>Yes</td>\n",
              "      <td>Yes</td>\n",
              "      <td>Yes</td>\n",
              "      <td>Yes</td>\n",
              "      <td>Positive</td>\n",
              "    </tr>\n",
              "  </tbody>\n",
              "</table>\n",
              "</div>\n",
              "      <button class=\"colab-df-convert\" onclick=\"convertToInteractive('df-7edbf341-9da2-4037-8dff-a8a6e98636ce')\"\n",
              "              title=\"Convert this dataframe to an interactive table.\"\n",
              "              style=\"display:none;\">\n",
              "        \n",
              "  <svg xmlns=\"http://www.w3.org/2000/svg\" height=\"24px\"viewBox=\"0 0 24 24\"\n",
              "       width=\"24px\">\n",
              "    <path d=\"M0 0h24v24H0V0z\" fill=\"none\"/>\n",
              "    <path d=\"M18.56 5.44l.94 2.06.94-2.06 2.06-.94-2.06-.94-.94-2.06-.94 2.06-2.06.94zm-11 1L8.5 8.5l.94-2.06 2.06-.94-2.06-.94L8.5 2.5l-.94 2.06-2.06.94zm10 10l.94 2.06.94-2.06 2.06-.94-2.06-.94-.94-2.06-.94 2.06-2.06.94z\"/><path d=\"M17.41 7.96l-1.37-1.37c-.4-.4-.92-.59-1.43-.59-.52 0-1.04.2-1.43.59L10.3 9.45l-7.72 7.72c-.78.78-.78 2.05 0 2.83L4 21.41c.39.39.9.59 1.41.59.51 0 1.02-.2 1.41-.59l7.78-7.78 2.81-2.81c.8-.78.8-2.07 0-2.86zM5.41 20L4 18.59l7.72-7.72 1.47 1.35L5.41 20z\"/>\n",
              "  </svg>\n",
              "      </button>\n",
              "      \n",
              "  <style>\n",
              "    .colab-df-container {\n",
              "      display:flex;\n",
              "      flex-wrap:wrap;\n",
              "      gap: 12px;\n",
              "    }\n",
              "\n",
              "    .colab-df-convert {\n",
              "      background-color: #E8F0FE;\n",
              "      border: none;\n",
              "      border-radius: 50%;\n",
              "      cursor: pointer;\n",
              "      display: none;\n",
              "      fill: #1967D2;\n",
              "      height: 32px;\n",
              "      padding: 0 0 0 0;\n",
              "      width: 32px;\n",
              "    }\n",
              "\n",
              "    .colab-df-convert:hover {\n",
              "      background-color: #E2EBFA;\n",
              "      box-shadow: 0px 1px 2px rgba(60, 64, 67, 0.3), 0px 1px 3px 1px rgba(60, 64, 67, 0.15);\n",
              "      fill: #174EA6;\n",
              "    }\n",
              "\n",
              "    [theme=dark] .colab-df-convert {\n",
              "      background-color: #3B4455;\n",
              "      fill: #D2E3FC;\n",
              "    }\n",
              "\n",
              "    [theme=dark] .colab-df-convert:hover {\n",
              "      background-color: #434B5C;\n",
              "      box-shadow: 0px 1px 3px 1px rgba(0, 0, 0, 0.15);\n",
              "      filter: drop-shadow(0px 1px 2px rgba(0, 0, 0, 0.3));\n",
              "      fill: #FFFFFF;\n",
              "    }\n",
              "  </style>\n",
              "\n",
              "      <script>\n",
              "        const buttonEl =\n",
              "          document.querySelector('#df-7edbf341-9da2-4037-8dff-a8a6e98636ce button.colab-df-convert');\n",
              "        buttonEl.style.display =\n",
              "          google.colab.kernel.accessAllowed ? 'block' : 'none';\n",
              "\n",
              "        async function convertToInteractive(key) {\n",
              "          const element = document.querySelector('#df-7edbf341-9da2-4037-8dff-a8a6e98636ce');\n",
              "          const dataTable =\n",
              "            await google.colab.kernel.invokeFunction('convertToInteractive',\n",
              "                                                     [key], {});\n",
              "          if (!dataTable) return;\n",
              "\n",
              "          const docLinkHtml = 'Like what you see? Visit the ' +\n",
              "            '<a target=\"_blank\" href=https://colab.research.google.com/notebooks/data_table.ipynb>data table notebook</a>'\n",
              "            + ' to learn more about interactive tables.';\n",
              "          element.innerHTML = '';\n",
              "          dataTable['output_type'] = 'display_data';\n",
              "          await google.colab.output.renderOutput(dataTable, element);\n",
              "          const docLink = document.createElement('div');\n",
              "          docLink.innerHTML = docLinkHtml;\n",
              "          element.appendChild(docLink);\n",
              "        }\n",
              "      </script>\n",
              "    </div>\n",
              "  </div>\n",
              "  "
            ]
          },
          "metadata": {},
          "execution_count": 3
        }
      ]
    },
    {
      "cell_type": "code",
      "source": [
        "ds.dtypes"
      ],
      "metadata": {
        "colab": {
          "base_uri": "https://localhost:8080/"
        },
        "id": "l9X_apaGVw9w",
        "outputId": "a368a5ea-ed03-4418-a680-6e08ed4d8536"
      },
      "execution_count": 4,
      "outputs": [
        {
          "output_type": "execute_result",
          "data": {
            "text/plain": [
              "Age                    int64\n",
              "Gender                object\n",
              "Polyuria              object\n",
              "Polydipsia            object\n",
              "Sudden_weight_loss    object\n",
              "weakness              object\n",
              "Polyphagia            object\n",
              "Genital_thrush        object\n",
              "visual_blurring       object\n",
              "Itching               object\n",
              "Irritability          object\n",
              "delayed_healing       object\n",
              "partial_paresis       object\n",
              "muscle_stiffness      object\n",
              "Alopecia              object\n",
              "Obesity               object\n",
              "class                 object\n",
              "dtype: object"
            ]
          },
          "metadata": {},
          "execution_count": 4
        }
      ]
    },
    {
      "cell_type": "code",
      "source": [
        "ds.info()"
      ],
      "metadata": {
        "colab": {
          "base_uri": "https://localhost:8080/"
        },
        "id": "QECxvnrLVynW",
        "outputId": "6a3976b0-3ace-4f12-8fe3-240197344df2"
      },
      "execution_count": 5,
      "outputs": [
        {
          "output_type": "stream",
          "name": "stdout",
          "text": [
            "<class 'pandas.core.frame.DataFrame'>\n",
            "RangeIndex: 520 entries, 0 to 519\n",
            "Data columns (total 17 columns):\n",
            " #   Column              Non-Null Count  Dtype \n",
            "---  ------              --------------  ----- \n",
            " 0   Age                 520 non-null    int64 \n",
            " 1   Gender              520 non-null    object\n",
            " 2   Polyuria            520 non-null    object\n",
            " 3   Polydipsia          520 non-null    object\n",
            " 4   Sudden_weight_loss  520 non-null    object\n",
            " 5   weakness            520 non-null    object\n",
            " 6   Polyphagia          520 non-null    object\n",
            " 7   Genital_thrush      520 non-null    object\n",
            " 8   visual_blurring     520 non-null    object\n",
            " 9   Itching             520 non-null    object\n",
            " 10  Irritability        520 non-null    object\n",
            " 11  delayed_healing     520 non-null    object\n",
            " 12  partial_paresis     520 non-null    object\n",
            " 13  muscle_stiffness    520 non-null    object\n",
            " 14  Alopecia            520 non-null    object\n",
            " 15  Obesity             520 non-null    object\n",
            " 16  class               520 non-null    object\n",
            "dtypes: int64(1), object(16)\n",
            "memory usage: 69.2+ KB\n"
          ]
        }
      ]
    },
    {
      "cell_type": "code",
      "source": [
        "import re\n",
        "def func(x):\n",
        "  if x == \"Male\":\n",
        "    return \"1\"\n",
        "  else:\n",
        "    return \"0\" \n",
        "\n",
        "ds['Gender']=ds['Gender'].apply(lambda x : func(x))\n",
        "\n"
      ],
      "metadata": {
        "id": "5yxB38AmV0P8"
      },
      "execution_count": 6,
      "outputs": []
    },
    {
      "cell_type": "code",
      "source": [
        "import re\n",
        "def func(x):\n",
        "  if x == \"Positive\":\n",
        "    return \"1\"\n",
        "  else:\n",
        "    return \"0\" \n",
        "\n",
        "ds['class']=ds['class'].apply(lambda x : func(x))"
      ],
      "metadata": {
        "id": "mTruLq9zV12Q"
      },
      "execution_count": 7,
      "outputs": []
    },
    {
      "cell_type": "code",
      "source": [
        "import re\n",
        "def func(x):\n",
        "  if x == \"Yes\":\n",
        "    return \"1\"\n",
        "  else:\n",
        "    return \"0\" \n",
        "ds['Polyuria']=ds['Polyuria'].apply(lambda x : func(x))\n",
        "ds['Polydipsia']=ds['Polydipsia'].apply(lambda x : func(x))\n",
        "ds['Sudden_weight_loss']=ds['Sudden_weight_loss'].apply(lambda x : func(x))\n",
        "ds['weakness']=ds['weakness'].apply(lambda x : func(x))\n",
        "ds['Polyphagia']=ds['Polyphagia'].apply(lambda x : func(x))\n",
        "ds['Genital_thrush']=ds['Genital_thrush'].apply(lambda x : func(x))\n",
        "ds['visual_blurring']=ds['visual_blurring'].apply(lambda x : func(x))\n",
        "ds['Itching']=ds['Itching'].apply(lambda x : func(x))\n",
        "ds['Irritability']=ds['Irritability'].apply(lambda x : func(x))\n",
        "ds['delayed_healing']=ds['delayed_healing'].apply(lambda x : func(x)) \n",
        "ds['partial_paresis']=ds['partial_paresis'].apply(lambda x : func(x))\n",
        "ds['muscle_stiffness']=ds['muscle_stiffness'].apply(lambda x : func(x))  \n",
        "ds['Alopecia']=ds['Alopecia'].apply(lambda x : func(x))\n",
        "ds['Obesity']=ds['Obesity'].apply(lambda x : func(x))"
      ],
      "metadata": {
        "id": "rj5Ea_6ZV3gL"
      },
      "execution_count": 8,
      "outputs": []
    },
    {
      "cell_type": "code",
      "source": [
        "from sklearn.preprocessing import LabelEncoder\n",
        "labelencoder=LabelEncoder()\n",
        "for column in ds.columns:\n",
        "    ds[column] = labelencoder.fit_transform(ds[column])"
      ],
      "metadata": {
        "id": "NwEfnTP6hG1m"
      },
      "execution_count": 9,
      "outputs": []
    },
    {
      "cell_type": "code",
      "source": [
        "factor_columns=ds[['Age', 'Gender', 'Polyuria', 'Polydipsia', 'Sudden_weight_loss',\n",
        "       'weakness', 'Polyphagia', 'Genital_thrush', 'visual_blurring',\n",
        "       'Itching', 'Irritability', 'delayed_healing', 'partial_paresis',\n",
        "       'muscle_stiffness', 'Alopecia', 'Obesity']]"
      ],
      "metadata": {
        "id": "74tYJmd_V73E"
      },
      "execution_count": 10,
      "outputs": []
    },
    {
      "cell_type": "code",
      "source": [
        "dia_result=ds['class']\n",
        "dia_result.head()"
      ],
      "metadata": {
        "colab": {
          "base_uri": "https://localhost:8080/"
        },
        "id": "Ctigvv6sV9wU",
        "outputId": "dfebcfa3-8cda-499d-a238-99418b99b9da"
      },
      "execution_count": 11,
      "outputs": [
        {
          "output_type": "execute_result",
          "data": {
            "text/plain": [
              "0    1\n",
              "1    1\n",
              "2    1\n",
              "3    1\n",
              "4    1\n",
              "Name: class, dtype: int64"
            ]
          },
          "metadata": {},
          "execution_count": 11
        }
      ]
    },
    {
      "cell_type": "code",
      "source": [
        "from sklearn.model_selection import train_test_split"
      ],
      "metadata": {
        "id": "osU718u2WDqz"
      },
      "execution_count": 14,
      "outputs": []
    },
    {
      "cell_type": "code",
      "source": [
        "X_train, X_test, y_train, y_test = train_test_split( factor_columns, dia_result, test_size=0.3, random_state=5) \n",
        "X_train, X_test_validation, y_train, y_test_validation = train_test_split(X_train, y_train, test_size=0.3)"
      ],
      "metadata": {
        "id": "lowdLjHifKI_"
      },
      "execution_count": 15,
      "outputs": []
    },
    {
      "cell_type": "code",
      "source": [
        "batch_size=64\n",
        "epochs=50\n",
        "\n",
        "max_features = 5000\n",
        "maxlen= 1045\n",
        "#batch_size=256\n",
        "embedding_dims=16\n",
        "filters=128\n",
        "kernel_size=3\n",
        "hidden_size=128\n"
      ],
      "metadata": {
        "id": "iHtOuvhCfL1w"
      },
      "execution_count": 16,
      "outputs": []
    },
    {
      "cell_type": "code",
      "source": [
        "from keras.models import Sequential, load_model\n",
        "from keras.layers import Dense, Conv1D,Flatten, MaxPooling1D, LSTM, Embedding, Dropout\n",
        "from keras.preprocessing.text import Tokenizer\n",
        "from keras.preprocessing.sequence import pad_sequences "
      ],
      "metadata": {
        "id": "9m6kw9wrfTmw"
      },
      "execution_count": 17,
      "outputs": []
    },
    {
      "cell_type": "code",
      "source": [
        "from keras import backend as K\n",
        "\n",
        "def recall_m(y_true, y_pred):\n",
        "    true_positives = K.sum(K.round(K.clip(y_true * y_pred, 0, 1)))\n",
        "    possible_positives = K.sum(K.round(K.clip(y_true, 0, 1)))\n",
        "    recall = true_positives / (possible_positives + K.epsilon())\n",
        "    return recall\n",
        "\n",
        "def precision_m(y_true, y_pred):\n",
        "    true_positives = K.sum(K.round(K.clip(y_true * y_pred, 0, 1)))\n",
        "    predicted_positives = K.sum(K.round(K.clip(y_pred, 0, 1)))\n",
        "    precision = true_positives / (predicted_positives + K.epsilon())\n",
        "    return precision\n",
        "\n",
        "def f1_m(y_true, y_pred):\n",
        "    precision = precision_m(y_true, y_pred)\n",
        "    recall = recall_m(y_true, y_pred)\n",
        "    return 2*((precision*recall)/(precision+recall+K.epsilon()))\n",
        "\n",
        "def r2_keras(y_true, y_pred):\n",
        "    SS_res =  K.sum(K.square(y_true - y_pred)) \n",
        "    SS_tot = K.sum(K.square(y_true - K.mean(y_true))) \n",
        "    return ( 1 - SS_res/(SS_tot + K.epsilon()) )"
      ],
      "metadata": {
        "id": "o6UAavpmfnz1"
      },
      "execution_count": 18,
      "outputs": []
    },
    {
      "cell_type": "code",
      "source": [
        "model = Sequential()\n",
        "\n",
        "model.add(Conv1D(filters = 256, kernel_size=3, activation='relu', input_shape=(16,1)))\n",
        "  #Adding MaxPool layer with pool_size as 2\n",
        "model.add(MaxPooling1D(pool_size =2))\n",
        "  #Adding 2nd convolution layer\n",
        "  \n",
        "\n",
        "model.add(Conv1D(filters = 128, kernel_size=5, activation='relu'))\n",
        "  #Adding MaxPool layer with pool_size as 2\n",
        "model.add(MaxPooling1D(pool_size =2))\n",
        "  \n",
        "model.add(Flatten())\n",
        "  #Adding Fully connected layer\n",
        "\n",
        "model.add(Dense(512, activation='relu'))\n",
        "\n",
        "model.add(Dense(256, activation='relu'))\n",
        "\n",
        "model.add(Dense(128, activation='relu'))\n",
        "\n",
        "model.add(Dense(64, activation='relu'))\n",
        "\n",
        "\n",
        "#Adding Dropout layer\n",
        "model.add(Dropout(0.7))\n",
        "  \n",
        "\n",
        "model.add(Dense(2, activation='softmax'))\n",
        "\n"
      ],
      "metadata": {
        "id": "SdWq5j2ZfVyI"
      },
      "execution_count": 19,
      "outputs": []
    },
    {
      "cell_type": "code",
      "source": [
        "model.compile(loss='sparse_categorical_crossentropy', optimizer='adam', metrics=['accuracy',f1_m,precision_m,recall_m])\n",
        "model.summary()"
      ],
      "metadata": {
        "colab": {
          "base_uri": "https://localhost:8080/"
        },
        "id": "G66UIModfds0",
        "outputId": "c4fb84f5-9222-4a0b-a5ae-68ec0cd6b88a"
      },
      "execution_count": 20,
      "outputs": [
        {
          "output_type": "stream",
          "name": "stdout",
          "text": [
            "Model: \"sequential\"\n",
            "_________________________________________________________________\n",
            " Layer (type)                Output Shape              Param #   \n",
            "=================================================================\n",
            " conv1d (Conv1D)             (None, 14, 256)           1024      \n",
            "                                                                 \n",
            " max_pooling1d (MaxPooling1D  (None, 7, 256)           0         \n",
            " )                                                               \n",
            "                                                                 \n",
            " conv1d_1 (Conv1D)           (None, 3, 128)            163968    \n",
            "                                                                 \n",
            " max_pooling1d_1 (MaxPooling  (None, 1, 128)           0         \n",
            " 1D)                                                             \n",
            "                                                                 \n",
            " flatten (Flatten)           (None, 128)               0         \n",
            "                                                                 \n",
            " dense (Dense)               (None, 512)               66048     \n",
            "                                                                 \n",
            " dense_1 (Dense)             (None, 256)               131328    \n",
            "                                                                 \n",
            " dense_2 (Dense)             (None, 128)               32896     \n",
            "                                                                 \n",
            " dense_3 (Dense)             (None, 64)                8256      \n",
            "                                                                 \n",
            " dropout (Dropout)           (None, 64)                0         \n",
            "                                                                 \n",
            " dense_4 (Dense)             (None, 2)                 130       \n",
            "                                                                 \n",
            "=================================================================\n",
            "Total params: 403,650\n",
            "Trainable params: 403,650\n",
            "Non-trainable params: 0\n",
            "_________________________________________________________________\n"
          ]
        }
      ]
    },
    {
      "cell_type": "code",
      "source": [
        "model.fit(X_train,y_train,epochs=epochs,validation_data=(X_test_validation, y_test_validation),batch_size=batch_size,verbose=2)"
      ],
      "metadata": {
        "colab": {
          "base_uri": "https://localhost:8080/"
        },
        "id": "OIGGWmgyfiLI",
        "outputId": "2601f5f7-1990-466c-b9dd-0f551e56234f"
      },
      "execution_count": 21,
      "outputs": [
        {
          "output_type": "stream",
          "name": "stdout",
          "text": [
            "Epoch 1/50\n",
            "4/4 - 3s - loss: 0.6944 - accuracy: 0.5669 - f1_m: 0.7605 - precision_m: 0.6144 - recall_m: 1.0000 - val_loss: 0.6245 - val_accuracy: 0.6636 - val_f1_m: 0.8036 - val_precision_m: 0.6743 - val_recall_m: 1.0000 - 3s/epoch - 690ms/step\n",
            "Epoch 2/50\n",
            "4/4 - 0s - loss: 0.6424 - accuracy: 0.6142 - f1_m: 0.7601 - precision_m: 0.6139 - recall_m: 1.0000 - val_loss: 0.5797 - val_accuracy: 0.6636 - val_f1_m: 0.8036 - val_precision_m: 0.6743 - val_recall_m: 1.0000 - 324ms/epoch - 81ms/step\n",
            "Epoch 3/50\n",
            "4/4 - 0s - loss: 0.5952 - accuracy: 0.6575 - f1_m: 0.7609 - precision_m: 0.6143 - recall_m: 1.0000 - val_loss: 0.5308 - val_accuracy: 0.8182 - val_f1_m: 0.8036 - val_precision_m: 0.6743 - val_recall_m: 1.0000 - 309ms/epoch - 77ms/step\n",
            "Epoch 4/50\n",
            "4/4 - 0s - loss: 0.5495 - accuracy: 0.7283 - f1_m: 0.7600 - precision_m: 0.6138 - recall_m: 1.0000 - val_loss: 0.4533 - val_accuracy: 0.8455 - val_f1_m: 0.8036 - val_precision_m: 0.6743 - val_recall_m: 1.0000 - 323ms/epoch - 81ms/step\n",
            "Epoch 5/50\n",
            "4/4 - 0s - loss: 0.4887 - accuracy: 0.8189 - f1_m: 0.7602 - precision_m: 0.6138 - recall_m: 1.0000 - val_loss: 0.3915 - val_accuracy: 0.8364 - val_f1_m: 0.8036 - val_precision_m: 0.6743 - val_recall_m: 1.0000 - 274ms/epoch - 69ms/step\n",
            "Epoch 6/50\n",
            "4/4 - 0s - loss: 0.4641 - accuracy: 0.7874 - f1_m: 0.7600 - precision_m: 0.6144 - recall_m: 1.0000 - val_loss: 0.3939 - val_accuracy: 0.8364 - val_f1_m: 0.8036 - val_precision_m: 0.6743 - val_recall_m: 1.0000 - 342ms/epoch - 85ms/step\n",
            "Epoch 7/50\n",
            "4/4 - 0s - loss: 0.4232 - accuracy: 0.8622 - f1_m: 0.7599 - precision_m: 0.6148 - recall_m: 1.0000 - val_loss: 0.3302 - val_accuracy: 0.8818 - val_f1_m: 0.8036 - val_precision_m: 0.6743 - val_recall_m: 1.0000 - 309ms/epoch - 77ms/step\n",
            "Epoch 8/50\n",
            "4/4 - 0s - loss: 0.3742 - accuracy: 0.8465 - f1_m: 0.7589 - precision_m: 0.6145 - recall_m: 1.0000 - val_loss: 0.2954 - val_accuracy: 0.9000 - val_f1_m: 0.8036 - val_precision_m: 0.6743 - val_recall_m: 1.0000 - 252ms/epoch - 63ms/step\n",
            "Epoch 9/50\n",
            "4/4 - 0s - loss: 0.3635 - accuracy: 0.8780 - f1_m: 0.7568 - precision_m: 0.6133 - recall_m: 1.0000 - val_loss: 0.3265 - val_accuracy: 0.8545 - val_f1_m: 0.8036 - val_precision_m: 0.6743 - val_recall_m: 1.0000 - 258ms/epoch - 64ms/step\n",
            "Epoch 10/50\n",
            "4/4 - 0s - loss: 0.3219 - accuracy: 0.8898 - f1_m: 0.7599 - precision_m: 0.6143 - recall_m: 1.0000 - val_loss: 0.2688 - val_accuracy: 0.8818 - val_f1_m: 0.8036 - val_precision_m: 0.6743 - val_recall_m: 1.0000 - 295ms/epoch - 74ms/step\n",
            "Epoch 11/50\n",
            "4/4 - 0s - loss: 0.3398 - accuracy: 0.8858 - f1_m: 0.7608 - precision_m: 0.6143 - recall_m: 1.0000 - val_loss: 0.3180 - val_accuracy: 0.8545 - val_f1_m: 0.8036 - val_precision_m: 0.6743 - val_recall_m: 1.0000 - 330ms/epoch - 83ms/step\n",
            "Epoch 12/50\n",
            "4/4 - 0s - loss: 0.2762 - accuracy: 0.8976 - f1_m: 0.7585 - precision_m: 0.6142 - recall_m: 1.0000 - val_loss: 0.2954 - val_accuracy: 0.8727 - val_f1_m: 0.8036 - val_precision_m: 0.6743 - val_recall_m: 1.0000 - 290ms/epoch - 73ms/step\n",
            "Epoch 13/50\n",
            "4/4 - 0s - loss: 0.2973 - accuracy: 0.8898 - f1_m: 0.7596 - precision_m: 0.6145 - recall_m: 1.0000 - val_loss: 0.5467 - val_accuracy: 0.7636 - val_f1_m: 0.8036 - val_precision_m: 0.6743 - val_recall_m: 1.0000 - 264ms/epoch - 66ms/step\n",
            "Epoch 14/50\n",
            "4/4 - 0s - loss: 0.3003 - accuracy: 0.8701 - f1_m: 0.7588 - precision_m: 0.6143 - recall_m: 1.0000 - val_loss: 0.3760 - val_accuracy: 0.8455 - val_f1_m: 0.8036 - val_precision_m: 0.6743 - val_recall_m: 1.0000 - 272ms/epoch - 68ms/step\n",
            "Epoch 15/50\n",
            "4/4 - 0s - loss: 0.2981 - accuracy: 0.8780 - f1_m: 0.7500 - precision_m: 0.6125 - recall_m: 1.0000 - val_loss: 0.3087 - val_accuracy: 0.8455 - val_f1_m: 0.8036 - val_precision_m: 0.6743 - val_recall_m: 1.0000 - 303ms/epoch - 76ms/step\n",
            "Epoch 16/50\n",
            "4/4 - 0s - loss: 0.2610 - accuracy: 0.9016 - f1_m: 0.7585 - precision_m: 0.6134 - recall_m: 1.0000 - val_loss: 0.2458 - val_accuracy: 0.8909 - val_f1_m: 0.8036 - val_precision_m: 0.6743 - val_recall_m: 1.0000 - 252ms/epoch - 63ms/step\n",
            "Epoch 17/50\n",
            "4/4 - 0s - loss: 0.2137 - accuracy: 0.9173 - f1_m: 0.7588 - precision_m: 0.6138 - recall_m: 1.0000 - val_loss: 0.2279 - val_accuracy: 0.9091 - val_f1_m: 0.8036 - val_precision_m: 0.6743 - val_recall_m: 1.0000 - 401ms/epoch - 100ms/step\n",
            "Epoch 18/50\n",
            "4/4 - 0s - loss: 0.1933 - accuracy: 0.9291 - f1_m: 0.7586 - precision_m: 0.6134 - recall_m: 1.0000 - val_loss: 0.2426 - val_accuracy: 0.8818 - val_f1_m: 0.8036 - val_precision_m: 0.6743 - val_recall_m: 1.0000 - 320ms/epoch - 80ms/step\n",
            "Epoch 19/50\n",
            "4/4 - 0s - loss: 0.1692 - accuracy: 0.9331 - f1_m: 0.7593 - precision_m: 0.6150 - recall_m: 1.0000 - val_loss: 0.2172 - val_accuracy: 0.9091 - val_f1_m: 0.8036 - val_precision_m: 0.6743 - val_recall_m: 1.0000 - 412ms/epoch - 103ms/step\n",
            "Epoch 20/50\n",
            "4/4 - 0s - loss: 0.1449 - accuracy: 0.9409 - f1_m: 0.7594 - precision_m: 0.6144 - recall_m: 1.0000 - val_loss: 0.2328 - val_accuracy: 0.8818 - val_f1_m: 0.8036 - val_precision_m: 0.6743 - val_recall_m: 1.0000 - 383ms/epoch - 96ms/step\n",
            "Epoch 21/50\n",
            "4/4 - 0s - loss: 0.1256 - accuracy: 0.9528 - f1_m: 0.7590 - precision_m: 0.6150 - recall_m: 1.0000 - val_loss: 0.2249 - val_accuracy: 0.9182 - val_f1_m: 0.8036 - val_precision_m: 0.6743 - val_recall_m: 1.0000 - 363ms/epoch - 91ms/step\n",
            "Epoch 22/50\n",
            "4/4 - 0s - loss: 0.1091 - accuracy: 0.9567 - f1_m: 0.7593 - precision_m: 0.6138 - recall_m: 1.0000 - val_loss: 0.3761 - val_accuracy: 0.8727 - val_f1_m: 0.8036 - val_precision_m: 0.6743 - val_recall_m: 1.0000 - 325ms/epoch - 81ms/step\n",
            "Epoch 23/50\n",
            "4/4 - 0s - loss: 0.0883 - accuracy: 0.9685 - f1_m: 0.7593 - precision_m: 0.6137 - recall_m: 1.0000 - val_loss: 0.2399 - val_accuracy: 0.9273 - val_f1_m: 0.8036 - val_precision_m: 0.6743 - val_recall_m: 1.0000 - 385ms/epoch - 96ms/step\n",
            "Epoch 24/50\n",
            "4/4 - 0s - loss: 0.1361 - accuracy: 0.9606 - f1_m: 0.7604 - precision_m: 0.6139 - recall_m: 1.0000 - val_loss: 0.2363 - val_accuracy: 0.9455 - val_f1_m: 0.8036 - val_precision_m: 0.6743 - val_recall_m: 1.0000 - 345ms/epoch - 86ms/step\n",
            "Epoch 25/50\n",
            "4/4 - 0s - loss: 0.1005 - accuracy: 0.9606 - f1_m: 0.7604 - precision_m: 0.6144 - recall_m: 1.0000 - val_loss: 0.3895 - val_accuracy: 0.8909 - val_f1_m: 0.8036 - val_precision_m: 0.6743 - val_recall_m: 1.0000 - 253ms/epoch - 63ms/step\n",
            "Epoch 26/50\n",
            "4/4 - 0s - loss: 0.1023 - accuracy: 0.9567 - f1_m: 0.7610 - precision_m: 0.6143 - recall_m: 1.0000 - val_loss: 0.2952 - val_accuracy: 0.9182 - val_f1_m: 0.8036 - val_precision_m: 0.6743 - val_recall_m: 1.0000 - 378ms/epoch - 95ms/step\n",
            "Epoch 27/50\n",
            "4/4 - 0s - loss: 0.0649 - accuracy: 0.9803 - f1_m: 0.7579 - precision_m: 0.6135 - recall_m: 1.0000 - val_loss: 0.2523 - val_accuracy: 0.9182 - val_f1_m: 0.8036 - val_precision_m: 0.6743 - val_recall_m: 1.0000 - 386ms/epoch - 97ms/step\n",
            "Epoch 28/50\n",
            "4/4 - 0s - loss: 0.0610 - accuracy: 0.9803 - f1_m: 0.7600 - precision_m: 0.6144 - recall_m: 1.0000 - val_loss: 0.2748 - val_accuracy: 0.9273 - val_f1_m: 0.8036 - val_precision_m: 0.6743 - val_recall_m: 1.0000 - 305ms/epoch - 76ms/step\n",
            "Epoch 29/50\n",
            "4/4 - 0s - loss: 0.0701 - accuracy: 0.9724 - f1_m: 0.7604 - precision_m: 0.6142 - recall_m: 1.0000 - val_loss: 0.3647 - val_accuracy: 0.9000 - val_f1_m: 0.8036 - val_precision_m: 0.6743 - val_recall_m: 1.0000 - 266ms/epoch - 67ms/step\n",
            "Epoch 30/50\n",
            "4/4 - 0s - loss: 0.0596 - accuracy: 0.9764 - f1_m: 0.7606 - precision_m: 0.6142 - recall_m: 1.0000 - val_loss: 0.3797 - val_accuracy: 0.9182 - val_f1_m: 0.8036 - val_precision_m: 0.6743 - val_recall_m: 1.0000 - 330ms/epoch - 82ms/step\n",
            "Epoch 31/50\n",
            "4/4 - 0s - loss: 0.0453 - accuracy: 0.9724 - f1_m: 0.7596 - precision_m: 0.6142 - recall_m: 1.0000 - val_loss: 0.4667 - val_accuracy: 0.9091 - val_f1_m: 0.8036 - val_precision_m: 0.6743 - val_recall_m: 1.0000 - 310ms/epoch - 77ms/step\n",
            "Epoch 32/50\n",
            "4/4 - 0s - loss: 0.0982 - accuracy: 0.9685 - f1_m: 0.7603 - precision_m: 0.6140 - recall_m: 1.0000 - val_loss: 0.4872 - val_accuracy: 0.9091 - val_f1_m: 0.8036 - val_precision_m: 0.6743 - val_recall_m: 1.0000 - 264ms/epoch - 66ms/step\n",
            "Epoch 33/50\n",
            "4/4 - 0s - loss: 0.0755 - accuracy: 0.9803 - f1_m: 0.7596 - precision_m: 0.6147 - recall_m: 1.0000 - val_loss: 0.3721 - val_accuracy: 0.9182 - val_f1_m: 0.8036 - val_precision_m: 0.6743 - val_recall_m: 1.0000 - 281ms/epoch - 70ms/step\n",
            "Epoch 34/50\n",
            "4/4 - 0s - loss: 0.0546 - accuracy: 0.9843 - f1_m: 0.7598 - precision_m: 0.6137 - recall_m: 1.0000 - val_loss: 0.4017 - val_accuracy: 0.8818 - val_f1_m: 0.8036 - val_precision_m: 0.6743 - val_recall_m: 1.0000 - 258ms/epoch - 65ms/step\n",
            "Epoch 35/50\n",
            "4/4 - 0s - loss: 0.0647 - accuracy: 0.9724 - f1_m: 0.7597 - precision_m: 0.6150 - recall_m: 1.0000 - val_loss: 0.4127 - val_accuracy: 0.9182 - val_f1_m: 0.8036 - val_precision_m: 0.6743 - val_recall_m: 1.0000 - 375ms/epoch - 94ms/step\n",
            "Epoch 36/50\n",
            "4/4 - 0s - loss: 0.0776 - accuracy: 0.9685 - f1_m: 0.7603 - precision_m: 0.6147 - recall_m: 1.0000 - val_loss: 0.3284 - val_accuracy: 0.9182 - val_f1_m: 0.8036 - val_precision_m: 0.6743 - val_recall_m: 1.0000 - 316ms/epoch - 79ms/step\n",
            "Epoch 37/50\n",
            "4/4 - 0s - loss: 0.0264 - accuracy: 1.0000 - f1_m: 0.7585 - precision_m: 0.6137 - recall_m: 1.0000 - val_loss: 0.3270 - val_accuracy: 0.9364 - val_f1_m: 0.8036 - val_precision_m: 0.6743 - val_recall_m: 1.0000 - 271ms/epoch - 68ms/step\n",
            "Epoch 38/50\n",
            "4/4 - 0s - loss: 0.0235 - accuracy: 1.0000 - f1_m: 0.7606 - precision_m: 0.6139 - recall_m: 1.0000 - val_loss: 0.4265 - val_accuracy: 0.9182 - val_f1_m: 0.8036 - val_precision_m: 0.6743 - val_recall_m: 1.0000 - 322ms/epoch - 81ms/step\n",
            "Epoch 39/50\n",
            "4/4 - 0s - loss: 0.0261 - accuracy: 0.9921 - f1_m: 0.7591 - precision_m: 0.6140 - recall_m: 1.0000 - val_loss: 0.4648 - val_accuracy: 0.9273 - val_f1_m: 0.8036 - val_precision_m: 0.6743 - val_recall_m: 1.0000 - 291ms/epoch - 73ms/step\n",
            "Epoch 40/50\n",
            "4/4 - 0s - loss: 0.0234 - accuracy: 0.9921 - f1_m: 0.7587 - precision_m: 0.6135 - recall_m: 1.0000 - val_loss: 0.5053 - val_accuracy: 0.9182 - val_f1_m: 0.8036 - val_precision_m: 0.6743 - val_recall_m: 1.0000 - 277ms/epoch - 69ms/step\n",
            "Epoch 41/50\n",
            "4/4 - 0s - loss: 0.0428 - accuracy: 0.9843 - f1_m: 0.7593 - precision_m: 0.6140 - recall_m: 1.0000 - val_loss: 0.4630 - val_accuracy: 0.9364 - val_f1_m: 0.8036 - val_precision_m: 0.6743 - val_recall_m: 1.0000 - 319ms/epoch - 80ms/step\n",
            "Epoch 42/50\n",
            "4/4 - 0s - loss: 0.0370 - accuracy: 0.9843 - f1_m: 0.7605 - precision_m: 0.6142 - recall_m: 1.0000 - val_loss: 0.8572 - val_accuracy: 0.8727 - val_f1_m: 0.8036 - val_precision_m: 0.6743 - val_recall_m: 1.0000 - 273ms/epoch - 68ms/step\n",
            "Epoch 43/50\n",
            "4/4 - 0s - loss: 0.2362 - accuracy: 0.9370 - f1_m: 0.7584 - precision_m: 0.6148 - recall_m: 1.0000 - val_loss: 0.5858 - val_accuracy: 0.8727 - val_f1_m: 0.8036 - val_precision_m: 0.6743 - val_recall_m: 1.0000 - 267ms/epoch - 67ms/step\n",
            "Epoch 44/50\n",
            "4/4 - 0s - loss: 0.1412 - accuracy: 0.9646 - f1_m: 0.7599 - precision_m: 0.6138 - recall_m: 1.0000 - val_loss: 0.6742 - val_accuracy: 0.8364 - val_f1_m: 0.8036 - val_precision_m: 0.6743 - val_recall_m: 1.0000 - 282ms/epoch - 70ms/step\n",
            "Epoch 45/50\n",
            "4/4 - 0s - loss: 0.1542 - accuracy: 0.9291 - f1_m: 0.7585 - precision_m: 0.6144 - recall_m: 1.0000 - val_loss: 0.3457 - val_accuracy: 0.9000 - val_f1_m: 0.8036 - val_precision_m: 0.6743 - val_recall_m: 1.0000 - 304ms/epoch - 76ms/step\n",
            "Epoch 46/50\n",
            "4/4 - 0s - loss: 0.1365 - accuracy: 0.9449 - f1_m: 0.7592 - precision_m: 0.6143 - recall_m: 1.0000 - val_loss: 0.2429 - val_accuracy: 0.9182 - val_f1_m: 0.8036 - val_precision_m: 0.6743 - val_recall_m: 1.0000 - 400ms/epoch - 100ms/step\n",
            "Epoch 47/50\n",
            "4/4 - 0s - loss: 0.0732 - accuracy: 0.9843 - f1_m: 0.7595 - precision_m: 0.6144 - recall_m: 1.0000 - val_loss: 0.2837 - val_accuracy: 0.9000 - val_f1_m: 0.8036 - val_precision_m: 0.6743 - val_recall_m: 1.0000 - 423ms/epoch - 106ms/step\n",
            "Epoch 48/50\n",
            "4/4 - 0s - loss: 0.0642 - accuracy: 0.9843 - f1_m: 0.7607 - precision_m: 0.6144 - recall_m: 1.0000 - val_loss: 0.3141 - val_accuracy: 0.9182 - val_f1_m: 0.8036 - val_precision_m: 0.6743 - val_recall_m: 1.0000 - 241ms/epoch - 60ms/step\n",
            "Epoch 49/50\n",
            "4/4 - 0s - loss: 0.0290 - accuracy: 1.0000 - f1_m: 0.7595 - precision_m: 0.6143 - recall_m: 1.0000 - val_loss: 0.4441 - val_accuracy: 0.9182 - val_f1_m: 0.8036 - val_precision_m: 0.6743 - val_recall_m: 1.0000 - 315ms/epoch - 79ms/step\n",
            "Epoch 50/50\n",
            "4/4 - 0s - loss: 0.0172 - accuracy: 1.0000 - f1_m: 0.7602 - precision_m: 0.6149 - recall_m: 1.0000 - val_loss: 0.5928 - val_accuracy: 0.9091 - val_f1_m: 0.8036 - val_precision_m: 0.6743 - val_recall_m: 1.0000 - 279ms/epoch - 70ms/step\n"
          ]
        },
        {
          "output_type": "execute_result",
          "data": {
            "text/plain": [
              "<keras.callbacks.History at 0x7ff420c8d110>"
            ]
          },
          "metadata": {},
          "execution_count": 21
        }
      ]
    },
    {
      "cell_type": "code",
      "source": [
        "loss, accuracy, f1_score, precision, recall = model.evaluate(X_test, y_test, verbose=0)\n",
        "print(\"Accuracy \" + str(accuracy) + \":\\n\\ff1_score = \" + str(f1_score) +\n",
        "          \"\\nPrecision = \" + str(precision) + \"\\nRecall = \" + str(recall))"
      ],
      "metadata": {
        "colab": {
          "base_uri": "https://localhost:8080/"
        },
        "id": "-ccF6vrlfkeU",
        "outputId": "dc8f316f-646b-48c1-b659-0fa918fdbc98"
      },
      "execution_count": 22,
      "outputs": [
        {
          "output_type": "stream",
          "name": "stdout",
          "text": [
            "Accuracy 0.9102563858032227:\n",
            "\ff1_score = 0.733849287033081\n",
            "Precision = 0.5821428298950195\n",
            "Recall = 1.0\n"
          ]
        }
      ]
    },
    {
      "cell_type": "code",
      "source": [
        "prediction_features = model.predict(X_test)\n",
        "performance = model.evaluate(X_test, y_test)\n",
        "print(performance)"
      ],
      "metadata": {
        "colab": {
          "base_uri": "https://localhost:8080/"
        },
        "id": "3cVygfqjlfa4",
        "outputId": "88dfe961-be2f-4a36-85d0-f25200bfb0f2"
      },
      "execution_count": 23,
      "outputs": [
        {
          "output_type": "stream",
          "name": "stdout",
          "text": [
            "5/5 [==============================] - 0s 4ms/step - loss: 0.5113 - accuracy: 0.9103 - f1_m: 0.7338 - precision_m: 0.5821 - recall_m: 1.0000\n",
            "[0.5112795233726501, 0.9102563858032227, 0.733849287033081, 0.5821428298950195, 1.0]\n"
          ]
        }
      ]
    },
    {
      "cell_type": "code",
      "source": [
        ""
      ],
      "metadata": {
        "id": "B_UgujXG-5bJ"
      },
      "execution_count": 23,
      "outputs": []
    }
  ]
}