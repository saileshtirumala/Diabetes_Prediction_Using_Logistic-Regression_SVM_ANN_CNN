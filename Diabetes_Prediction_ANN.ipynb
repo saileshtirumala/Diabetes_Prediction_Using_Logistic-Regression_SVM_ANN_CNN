{
  "nbformat": 4,
  "nbformat_minor": 0,
  "metadata": {
    "colab": {
      "name": "Diabetes_Prediction_ANN.ipynb",
      "provenance": []
    },
    "kernelspec": {
      "name": "python3",
      "display_name": "Python 3"
    },
    "language_info": {
      "name": "python"
    }
  },
  "cells": [
    {
      "cell_type": "code",
      "execution_count": 1,
      "metadata": {
        "colab": {
          "base_uri": "https://localhost:8080/"
        },
        "id": "FH9NNwUNgg6b",
        "outputId": "070a5e6f-b2ad-408c-c09b-9370160710e1"
      },
      "outputs": [
        {
          "output_type": "stream",
          "name": "stdout",
          "text": [
            "Drive already mounted at /content/drive/; to attempt to forcibly remount, call drive.mount(\"/content/drive/\", force_remount=True).\n"
          ]
        }
      ],
      "source": [
        "from google.colab import drive\n",
        "drive.mount('/content/drive/')\n"
      ]
    },
    {
      "cell_type": "code",
      "source": [
        "import pandas as pd\n",
        "import numpy as np"
      ],
      "metadata": {
        "id": "r00JSbJ2guWw"
      },
      "execution_count": 2,
      "outputs": []
    },
    {
      "cell_type": "code",
      "source": [
        "ds= pd.read_csv('/content/drive/MyDrive/diabetes_data.csv')\n",
        "ds.head()"
      ],
      "metadata": {
        "colab": {
          "base_uri": "https://localhost:8080/",
          "height": 270
        },
        "id": "6NE0O-Btgzgk",
        "outputId": "776dd5d8-ed22-45fa-8bb1-11a46e94c58a"
      },
      "execution_count": 3,
      "outputs": [
        {
          "output_type": "execute_result",
          "data": {
            "text/plain": [
              "   Age Gender Polyuria Polydipsia Sudden_weight_loss weakness Polyphagia  \\\n",
              "0   40   Male       No        Yes                 No      Yes         No   \n",
              "1   58   Male       No         No                 No      Yes         No   \n",
              "2   41   Male      Yes         No                 No      Yes        Yes   \n",
              "3   45   Male       No         No                Yes      Yes        Yes   \n",
              "4   60   Male      Yes        Yes                Yes      Yes        Yes   \n",
              "\n",
              "  Genital_thrush visual_blurring Itching Irritability delayed_healing  \\\n",
              "0             No              No     Yes           No             Yes   \n",
              "1             No             Yes      No           No              No   \n",
              "2             No              No     Yes           No             Yes   \n",
              "3            Yes              No     Yes           No             Yes   \n",
              "4             No             Yes     Yes          Yes             Yes   \n",
              "\n",
              "  partial_paresis muscle_stiffness Alopecia Obesity     class  \n",
              "0              No              Yes      Yes     Yes  Positive  \n",
              "1             Yes               No      Yes      No  Positive  \n",
              "2              No              Yes      Yes      No  Positive  \n",
              "3              No               No       No      No  Positive  \n",
              "4             Yes              Yes      Yes     Yes  Positive  "
            ],
            "text/html": [
              "\n",
              "  <div id=\"df-7375b3b9-a331-48c3-a389-3c8008062554\">\n",
              "    <div class=\"colab-df-container\">\n",
              "      <div>\n",
              "<style scoped>\n",
              "    .dataframe tbody tr th:only-of-type {\n",
              "        vertical-align: middle;\n",
              "    }\n",
              "\n",
              "    .dataframe tbody tr th {\n",
              "        vertical-align: top;\n",
              "    }\n",
              "\n",
              "    .dataframe thead th {\n",
              "        text-align: right;\n",
              "    }\n",
              "</style>\n",
              "<table border=\"1\" class=\"dataframe\">\n",
              "  <thead>\n",
              "    <tr style=\"text-align: right;\">\n",
              "      <th></th>\n",
              "      <th>Age</th>\n",
              "      <th>Gender</th>\n",
              "      <th>Polyuria</th>\n",
              "      <th>Polydipsia</th>\n",
              "      <th>Sudden_weight_loss</th>\n",
              "      <th>weakness</th>\n",
              "      <th>Polyphagia</th>\n",
              "      <th>Genital_thrush</th>\n",
              "      <th>visual_blurring</th>\n",
              "      <th>Itching</th>\n",
              "      <th>Irritability</th>\n",
              "      <th>delayed_healing</th>\n",
              "      <th>partial_paresis</th>\n",
              "      <th>muscle_stiffness</th>\n",
              "      <th>Alopecia</th>\n",
              "      <th>Obesity</th>\n",
              "      <th>class</th>\n",
              "    </tr>\n",
              "  </thead>\n",
              "  <tbody>\n",
              "    <tr>\n",
              "      <th>0</th>\n",
              "      <td>40</td>\n",
              "      <td>Male</td>\n",
              "      <td>No</td>\n",
              "      <td>Yes</td>\n",
              "      <td>No</td>\n",
              "      <td>Yes</td>\n",
              "      <td>No</td>\n",
              "      <td>No</td>\n",
              "      <td>No</td>\n",
              "      <td>Yes</td>\n",
              "      <td>No</td>\n",
              "      <td>Yes</td>\n",
              "      <td>No</td>\n",
              "      <td>Yes</td>\n",
              "      <td>Yes</td>\n",
              "      <td>Yes</td>\n",
              "      <td>Positive</td>\n",
              "    </tr>\n",
              "    <tr>\n",
              "      <th>1</th>\n",
              "      <td>58</td>\n",
              "      <td>Male</td>\n",
              "      <td>No</td>\n",
              "      <td>No</td>\n",
              "      <td>No</td>\n",
              "      <td>Yes</td>\n",
              "      <td>No</td>\n",
              "      <td>No</td>\n",
              "      <td>Yes</td>\n",
              "      <td>No</td>\n",
              "      <td>No</td>\n",
              "      <td>No</td>\n",
              "      <td>Yes</td>\n",
              "      <td>No</td>\n",
              "      <td>Yes</td>\n",
              "      <td>No</td>\n",
              "      <td>Positive</td>\n",
              "    </tr>\n",
              "    <tr>\n",
              "      <th>2</th>\n",
              "      <td>41</td>\n",
              "      <td>Male</td>\n",
              "      <td>Yes</td>\n",
              "      <td>No</td>\n",
              "      <td>No</td>\n",
              "      <td>Yes</td>\n",
              "      <td>Yes</td>\n",
              "      <td>No</td>\n",
              "      <td>No</td>\n",
              "      <td>Yes</td>\n",
              "      <td>No</td>\n",
              "      <td>Yes</td>\n",
              "      <td>No</td>\n",
              "      <td>Yes</td>\n",
              "      <td>Yes</td>\n",
              "      <td>No</td>\n",
              "      <td>Positive</td>\n",
              "    </tr>\n",
              "    <tr>\n",
              "      <th>3</th>\n",
              "      <td>45</td>\n",
              "      <td>Male</td>\n",
              "      <td>No</td>\n",
              "      <td>No</td>\n",
              "      <td>Yes</td>\n",
              "      <td>Yes</td>\n",
              "      <td>Yes</td>\n",
              "      <td>Yes</td>\n",
              "      <td>No</td>\n",
              "      <td>Yes</td>\n",
              "      <td>No</td>\n",
              "      <td>Yes</td>\n",
              "      <td>No</td>\n",
              "      <td>No</td>\n",
              "      <td>No</td>\n",
              "      <td>No</td>\n",
              "      <td>Positive</td>\n",
              "    </tr>\n",
              "    <tr>\n",
              "      <th>4</th>\n",
              "      <td>60</td>\n",
              "      <td>Male</td>\n",
              "      <td>Yes</td>\n",
              "      <td>Yes</td>\n",
              "      <td>Yes</td>\n",
              "      <td>Yes</td>\n",
              "      <td>Yes</td>\n",
              "      <td>No</td>\n",
              "      <td>Yes</td>\n",
              "      <td>Yes</td>\n",
              "      <td>Yes</td>\n",
              "      <td>Yes</td>\n",
              "      <td>Yes</td>\n",
              "      <td>Yes</td>\n",
              "      <td>Yes</td>\n",
              "      <td>Yes</td>\n",
              "      <td>Positive</td>\n",
              "    </tr>\n",
              "  </tbody>\n",
              "</table>\n",
              "</div>\n",
              "      <button class=\"colab-df-convert\" onclick=\"convertToInteractive('df-7375b3b9-a331-48c3-a389-3c8008062554')\"\n",
              "              title=\"Convert this dataframe to an interactive table.\"\n",
              "              style=\"display:none;\">\n",
              "        \n",
              "  <svg xmlns=\"http://www.w3.org/2000/svg\" height=\"24px\"viewBox=\"0 0 24 24\"\n",
              "       width=\"24px\">\n",
              "    <path d=\"M0 0h24v24H0V0z\" fill=\"none\"/>\n",
              "    <path d=\"M18.56 5.44l.94 2.06.94-2.06 2.06-.94-2.06-.94-.94-2.06-.94 2.06-2.06.94zm-11 1L8.5 8.5l.94-2.06 2.06-.94-2.06-.94L8.5 2.5l-.94 2.06-2.06.94zm10 10l.94 2.06.94-2.06 2.06-.94-2.06-.94-.94-2.06-.94 2.06-2.06.94z\"/><path d=\"M17.41 7.96l-1.37-1.37c-.4-.4-.92-.59-1.43-.59-.52 0-1.04.2-1.43.59L10.3 9.45l-7.72 7.72c-.78.78-.78 2.05 0 2.83L4 21.41c.39.39.9.59 1.41.59.51 0 1.02-.2 1.41-.59l7.78-7.78 2.81-2.81c.8-.78.8-2.07 0-2.86zM5.41 20L4 18.59l7.72-7.72 1.47 1.35L5.41 20z\"/>\n",
              "  </svg>\n",
              "      </button>\n",
              "      \n",
              "  <style>\n",
              "    .colab-df-container {\n",
              "      display:flex;\n",
              "      flex-wrap:wrap;\n",
              "      gap: 12px;\n",
              "    }\n",
              "\n",
              "    .colab-df-convert {\n",
              "      background-color: #E8F0FE;\n",
              "      border: none;\n",
              "      border-radius: 50%;\n",
              "      cursor: pointer;\n",
              "      display: none;\n",
              "      fill: #1967D2;\n",
              "      height: 32px;\n",
              "      padding: 0 0 0 0;\n",
              "      width: 32px;\n",
              "    }\n",
              "\n",
              "    .colab-df-convert:hover {\n",
              "      background-color: #E2EBFA;\n",
              "      box-shadow: 0px 1px 2px rgba(60, 64, 67, 0.3), 0px 1px 3px 1px rgba(60, 64, 67, 0.15);\n",
              "      fill: #174EA6;\n",
              "    }\n",
              "\n",
              "    [theme=dark] .colab-df-convert {\n",
              "      background-color: #3B4455;\n",
              "      fill: #D2E3FC;\n",
              "    }\n",
              "\n",
              "    [theme=dark] .colab-df-convert:hover {\n",
              "      background-color: #434B5C;\n",
              "      box-shadow: 0px 1px 3px 1px rgba(0, 0, 0, 0.15);\n",
              "      filter: drop-shadow(0px 1px 2px rgba(0, 0, 0, 0.3));\n",
              "      fill: #FFFFFF;\n",
              "    }\n",
              "  </style>\n",
              "\n",
              "      <script>\n",
              "        const buttonEl =\n",
              "          document.querySelector('#df-7375b3b9-a331-48c3-a389-3c8008062554 button.colab-df-convert');\n",
              "        buttonEl.style.display =\n",
              "          google.colab.kernel.accessAllowed ? 'block' : 'none';\n",
              "\n",
              "        async function convertToInteractive(key) {\n",
              "          const element = document.querySelector('#df-7375b3b9-a331-48c3-a389-3c8008062554');\n",
              "          const dataTable =\n",
              "            await google.colab.kernel.invokeFunction('convertToInteractive',\n",
              "                                                     [key], {});\n",
              "          if (!dataTable) return;\n",
              "\n",
              "          const docLinkHtml = 'Like what you see? Visit the ' +\n",
              "            '<a target=\"_blank\" href=https://colab.research.google.com/notebooks/data_table.ipynb>data table notebook</a>'\n",
              "            + ' to learn more about interactive tables.';\n",
              "          element.innerHTML = '';\n",
              "          dataTable['output_type'] = 'display_data';\n",
              "          await google.colab.output.renderOutput(dataTable, element);\n",
              "          const docLink = document.createElement('div');\n",
              "          docLink.innerHTML = docLinkHtml;\n",
              "          element.appendChild(docLink);\n",
              "        }\n",
              "      </script>\n",
              "    </div>\n",
              "  </div>\n",
              "  "
            ]
          },
          "metadata": {},
          "execution_count": 3
        }
      ]
    },
    {
      "cell_type": "code",
      "source": [
        "ds.dtypes"
      ],
      "metadata": {
        "colab": {
          "base_uri": "https://localhost:8080/"
        },
        "id": "PEbqQGotg2Dh",
        "outputId": "e3c5887b-3a63-4b32-ba0e-e24381a3578a"
      },
      "execution_count": 4,
      "outputs": [
        {
          "output_type": "execute_result",
          "data": {
            "text/plain": [
              "Age                    int64\n",
              "Gender                object\n",
              "Polyuria              object\n",
              "Polydipsia            object\n",
              "Sudden_weight_loss    object\n",
              "weakness              object\n",
              "Polyphagia            object\n",
              "Genital_thrush        object\n",
              "visual_blurring       object\n",
              "Itching               object\n",
              "Irritability          object\n",
              "delayed_healing       object\n",
              "partial_paresis       object\n",
              "muscle_stiffness      object\n",
              "Alopecia              object\n",
              "Obesity               object\n",
              "class                 object\n",
              "dtype: object"
            ]
          },
          "metadata": {},
          "execution_count": 4
        }
      ]
    },
    {
      "cell_type": "code",
      "source": [
        "ds.info()"
      ],
      "metadata": {
        "colab": {
          "base_uri": "https://localhost:8080/"
        },
        "id": "Wt0vD0hjg2de",
        "outputId": "d0282b7b-f82f-4ad7-dd26-6f7d5e819895"
      },
      "execution_count": 5,
      "outputs": [
        {
          "output_type": "stream",
          "name": "stdout",
          "text": [
            "<class 'pandas.core.frame.DataFrame'>\n",
            "RangeIndex: 520 entries, 0 to 519\n",
            "Data columns (total 17 columns):\n",
            " #   Column              Non-Null Count  Dtype \n",
            "---  ------              --------------  ----- \n",
            " 0   Age                 520 non-null    int64 \n",
            " 1   Gender              520 non-null    object\n",
            " 2   Polyuria            520 non-null    object\n",
            " 3   Polydipsia          520 non-null    object\n",
            " 4   Sudden_weight_loss  520 non-null    object\n",
            " 5   weakness            520 non-null    object\n",
            " 6   Polyphagia          520 non-null    object\n",
            " 7   Genital_thrush      520 non-null    object\n",
            " 8   visual_blurring     520 non-null    object\n",
            " 9   Itching             520 non-null    object\n",
            " 10  Irritability        520 non-null    object\n",
            " 11  delayed_healing     520 non-null    object\n",
            " 12  partial_paresis     520 non-null    object\n",
            " 13  muscle_stiffness    520 non-null    object\n",
            " 14  Alopecia            520 non-null    object\n",
            " 15  Obesity             520 non-null    object\n",
            " 16  class               520 non-null    object\n",
            "dtypes: int64(1), object(16)\n",
            "memory usage: 69.2+ KB\n"
          ]
        }
      ]
    },
    {
      "cell_type": "code",
      "source": [
        "import re\n",
        "def func(x):\n",
        "  if x == \"Male\":\n",
        "    return \"1\"\n",
        "  else:\n",
        "    return \"0\" \n",
        "\n",
        "ds['Gender']=ds['Gender'].apply(lambda x : func(x))\n",
        "\n"
      ],
      "metadata": {
        "id": "_R_U3RDfg4j6"
      },
      "execution_count": 6,
      "outputs": []
    },
    {
      "cell_type": "code",
      "source": [
        "import re\n",
        "def func(x):\n",
        "  if x == \"Positive\":\n",
        "    return \"1\"\n",
        "  else:\n",
        "    return \"0\" \n",
        "\n",
        "ds['class']=ds['class'].apply(lambda x : func(x))"
      ],
      "metadata": {
        "id": "BNw-AuStg6p0"
      },
      "execution_count": 7,
      "outputs": []
    },
    {
      "cell_type": "code",
      "source": [
        "import re\n",
        "def func(x):\n",
        "  if x == \"Yes\":\n",
        "    return \"1\"\n",
        "  else:\n",
        "    return \"0\" \n",
        "ds['Polyuria']=ds['Polyuria'].apply(lambda x : func(x))\n",
        "ds['Polydipsia']=ds['Polydipsia'].apply(lambda x : func(x))\n",
        "ds['Sudden_weight_loss']=ds['Sudden_weight_loss'].apply(lambda x : func(x))\n",
        "ds['weakness']=ds['weakness'].apply(lambda x : func(x))\n",
        "ds['Polyphagia']=ds['Polyphagia'].apply(lambda x : func(x))\n",
        "ds['Genital_thrush']=ds['Genital_thrush'].apply(lambda x : func(x))\n",
        "ds['visual_blurring']=ds['visual_blurring'].apply(lambda x : func(x))\n",
        "ds['Itching']=ds['Itching'].apply(lambda x : func(x))\n",
        "ds['Irritability']=ds['Irritability'].apply(lambda x : func(x))\n",
        "ds['delayed_healing']=ds['delayed_healing'].apply(lambda x : func(x)) \n",
        "ds['partial_paresis']=ds['partial_paresis'].apply(lambda x : func(x))\n",
        "ds['muscle_stiffness']=ds['muscle_stiffness'].apply(lambda x : func(x))  \n",
        "ds['Alopecia']=ds['Alopecia'].apply(lambda x : func(x))\n",
        "ds['Obesity']=ds['Obesity'].apply(lambda x : func(x))"
      ],
      "metadata": {
        "id": "LuEQ5kZfg9EK"
      },
      "execution_count": 8,
      "outputs": []
    },
    {
      "cell_type": "code",
      "source": [
        "from sklearn.preprocessing import LabelEncoder\n",
        "labelencoder=LabelEncoder()\n",
        "for column in ds.columns:\n",
        "    ds[column] = labelencoder.fit_transform(ds[column])"
      ],
      "metadata": {
        "id": "GXdUIreQwkdd"
      },
      "execution_count": 9,
      "outputs": []
    },
    {
      "cell_type": "code",
      "source": [
        "factor_columns=ds[['Age', 'Gender', 'Polyuria', 'Polydipsia', 'Sudden_weight_loss',\n",
        "       'weakness', 'Polyphagia', 'Genital_thrush', 'visual_blurring',\n",
        "       'Itching', 'Irritability', 'delayed_healing', 'partial_paresis',\n",
        "       'muscle_stiffness', 'Alopecia', 'Obesity']]"
      ],
      "metadata": {
        "id": "tzBPQ8dXg_YX"
      },
      "execution_count": 10,
      "outputs": []
    },
    {
      "cell_type": "code",
      "source": [
        "dia_result=ds['class']\n",
        "dia_result.head()"
      ],
      "metadata": {
        "colab": {
          "base_uri": "https://localhost:8080/"
        },
        "id": "8FRoyGiKhBO9",
        "outputId": "f12f7c3e-45b0-4171-f873-ef93af1e1bb2"
      },
      "execution_count": 11,
      "outputs": [
        {
          "output_type": "execute_result",
          "data": {
            "text/plain": [
              "0    1\n",
              "1    1\n",
              "2    1\n",
              "3    1\n",
              "4    1\n",
              "Name: class, dtype: int64"
            ]
          },
          "metadata": {},
          "execution_count": 11
        }
      ]
    },
    {
      "cell_type": "code",
      "source": [
        "from sklearn.model_selection import train_test_split"
      ],
      "metadata": {
        "id": "kEvoYlmWhC7L"
      },
      "execution_count": 13,
      "outputs": []
    },
    {
      "cell_type": "code",
      "source": [
        "X_train, X_test, y_train, y_test = train_test_split( factor_columns, dia_result, test_size=0.3, random_state=5) \n",
        "X_train, X_test_validation, y_train, y_test_validation = train_test_split(X_train, y_train, test_size=0.3)"
      ],
      "metadata": {
        "id": "2N4zsTS2hEud"
      },
      "execution_count": 14,
      "outputs": []
    },
    {
      "cell_type": "code",
      "source": [
        "from keras import backend as K\n",
        "\n",
        "def recall_m(y_true, y_pred):\n",
        "    true_positives = K.sum(K.round(K.clip(y_true * y_pred, 0, 1)))\n",
        "    possible_positives = K.sum(K.round(K.clip(y_true, 0, 1)))\n",
        "    recall = true_positives / (possible_positives + K.epsilon())\n",
        "    return recall\n",
        "\n",
        "def precision_m(y_true, y_pred):\n",
        "    true_positives = K.sum(K.round(K.clip(y_true * y_pred, 0, 1)))\n",
        "    predicted_positives = K.sum(K.round(K.clip(y_pred, 0, 1)))\n",
        "    precision = true_positives / (predicted_positives + K.epsilon())\n",
        "    return precision\n",
        "\n",
        "def f1_m(y_true, y_pred):\n",
        "    precision = precision_m(y_true, y_pred)\n",
        "    recall = recall_m(y_true, y_pred)\n",
        "    return 2*((precision*recall)/(precision+recall+K.epsilon()))\n",
        "\n",
        "def r2_keras(y_true, y_pred):\n",
        "    SS_res =  K.sum(K.square(y_true - y_pred)) \n",
        "    SS_tot = K.sum(K.square(y_true - K.mean(y_true))) \n",
        "    return ( 1 - SS_res/(SS_tot + K.epsilon()) )"
      ],
      "metadata": {
        "id": "Up3MVCNtDeEE"
      },
      "execution_count": 16,
      "outputs": []
    },
    {
      "cell_type": "code",
      "source": [
        "import tensorflow as tf\n",
        "from tensorflow import keras\n",
        "from keras.layers import Dense\n",
        "from keras.models import Sequential\n",
        "\n",
        "model=Sequential()\n",
        "model.add(Dense(12, input_dim=16,activation='relu'))\n",
        "model.add(Dense(15, activation='relu'))\n",
        "model.add(Dense(8, activation='relu'))\n",
        "model.add(Dense(10, activation='relu'))\n",
        "model.add(Dense(2, activation='sigmoid'))\n"
      ],
      "metadata": {
        "id": "zhqE_JeshIWq"
      },
      "execution_count": 17,
      "outputs": []
    },
    {
      "cell_type": "code",
      "source": [
        "model.compile(optimizer='adam',\n",
        "             loss='sparse_categorical_crossentropy',\n",
        "             metrics=['accuracy',f1_m,precision_m,recall_m])\n",
        "model.summary()"
      ],
      "metadata": {
        "colab": {
          "base_uri": "https://localhost:8080/"
        },
        "id": "yExqvHAXKEMl",
        "outputId": "5738db7c-9ae3-47f6-fc54-e6bb37bfcd34"
      },
      "execution_count": 18,
      "outputs": [
        {
          "output_type": "stream",
          "name": "stdout",
          "text": [
            "Model: \"sequential\"\n",
            "_________________________________________________________________\n",
            " Layer (type)                Output Shape              Param #   \n",
            "=================================================================\n",
            " dense (Dense)               (None, 12)                204       \n",
            "                                                                 \n",
            " dense_1 (Dense)             (None, 15)                195       \n",
            "                                                                 \n",
            " dense_2 (Dense)             (None, 8)                 128       \n",
            "                                                                 \n",
            " dense_3 (Dense)             (None, 10)                90        \n",
            "                                                                 \n",
            " dense_4 (Dense)             (None, 2)                 22        \n",
            "                                                                 \n",
            "=================================================================\n",
            "Total params: 639\n",
            "Trainable params: 639\n",
            "Non-trainable params: 0\n",
            "_________________________________________________________________\n"
          ]
        }
      ]
    },
    {
      "cell_type": "code",
      "source": [
        "history = model.fit(X_train, y_train, epochs=50, validation_data=(X_test_validation, y_test_validation))"
      ],
      "metadata": {
        "colab": {
          "base_uri": "https://localhost:8080/"
        },
        "id": "_lEzcTaMKQHl",
        "outputId": "ce7d4d91-7591-4b8f-e5e8-ce12b4b88f2f"
      },
      "execution_count": 19,
      "outputs": [
        {
          "output_type": "stream",
          "name": "stdout",
          "text": [
            "Epoch 1/50\n",
            "8/8 [==============================] - 3s 146ms/step - loss: 0.7039 - accuracy: 0.4882 - f1_m: 0.9554 - precision_m: 0.6294 - recall_m: 2.0000 - val_loss: 0.6816 - val_accuracy: 0.6273 - val_f1_m: 0.9174 - val_precision_m: 0.5993 - val_recall_m: 2.0000\n",
            "Epoch 2/50\n",
            "8/8 [==============================] - 0s 19ms/step - loss: 0.6756 - accuracy: 0.6299 - f1_m: 0.9551 - precision_m: 0.6302 - recall_m: 2.0000 - val_loss: 0.6629 - val_accuracy: 0.6273 - val_f1_m: 0.9174 - val_precision_m: 0.5993 - val_recall_m: 2.0000\n",
            "Epoch 3/50\n",
            "8/8 [==============================] - 0s 25ms/step - loss: 0.6576 - accuracy: 0.6299 - f1_m: 0.9544 - precision_m: 0.6292 - recall_m: 2.0000 - val_loss: 0.6590 - val_accuracy: 0.6273 - val_f1_m: 0.9174 - val_precision_m: 0.5993 - val_recall_m: 2.0000\n",
            "Epoch 4/50\n",
            "8/8 [==============================] - 0s 19ms/step - loss: 0.6567 - accuracy: 0.6299 - f1_m: 0.9566 - precision_m: 0.6302 - recall_m: 2.0000 - val_loss: 0.6554 - val_accuracy: 0.6273 - val_f1_m: 0.9174 - val_precision_m: 0.5993 - val_recall_m: 2.0000\n",
            "Epoch 5/50\n",
            "8/8 [==============================] - 0s 20ms/step - loss: 0.6539 - accuracy: 0.6299 - f1_m: 0.9520 - precision_m: 0.6292 - recall_m: 2.0000 - val_loss: 0.6549 - val_accuracy: 0.6273 - val_f1_m: 0.9174 - val_precision_m: 0.5993 - val_recall_m: 2.0000\n",
            "Epoch 6/50\n",
            "8/8 [==============================] - 0s 23ms/step - loss: 0.6494 - accuracy: 0.6299 - f1_m: 0.9562 - precision_m: 0.6297 - recall_m: 2.0000 - val_loss: 0.6516 - val_accuracy: 0.6273 - val_f1_m: 0.9174 - val_precision_m: 0.5993 - val_recall_m: 2.0000\n",
            "Epoch 7/50\n",
            "8/8 [==============================] - 0s 12ms/step - loss: 0.6499 - accuracy: 0.6299 - f1_m: 0.9554 - precision_m: 0.6313 - recall_m: 2.0000 - val_loss: 0.6499 - val_accuracy: 0.6273 - val_f1_m: 0.9174 - val_precision_m: 0.5993 - val_recall_m: 2.0000\n",
            "Epoch 8/50\n",
            "8/8 [==============================] - 0s 12ms/step - loss: 0.6410 - accuracy: 0.6299 - f1_m: 0.9554 - precision_m: 0.6299 - recall_m: 2.0000 - val_loss: 0.6469 - val_accuracy: 0.6273 - val_f1_m: 0.9174 - val_precision_m: 0.5993 - val_recall_m: 2.0000\n",
            "Epoch 9/50\n",
            "8/8 [==============================] - 0s 17ms/step - loss: 0.6376 - accuracy: 0.6299 - f1_m: 0.9552 - precision_m: 0.6302 - recall_m: 2.0000 - val_loss: 0.6423 - val_accuracy: 0.6273 - val_f1_m: 0.9174 - val_precision_m: 0.5993 - val_recall_m: 2.0000\n",
            "Epoch 10/50\n",
            "8/8 [==============================] - 0s 12ms/step - loss: 0.6318 - accuracy: 0.6299 - f1_m: 0.9570 - precision_m: 0.6302 - recall_m: 2.0000 - val_loss: 0.6369 - val_accuracy: 0.6273 - val_f1_m: 0.9174 - val_precision_m: 0.5993 - val_recall_m: 2.0000\n",
            "Epoch 11/50\n",
            "8/8 [==============================] - 0s 22ms/step - loss: 0.6262 - accuracy: 0.6299 - f1_m: 0.9548 - precision_m: 0.6289 - recall_m: 2.0000 - val_loss: 0.6312 - val_accuracy: 0.6273 - val_f1_m: 0.9174 - val_precision_m: 0.5993 - val_recall_m: 2.0000\n",
            "Epoch 12/50\n",
            "8/8 [==============================] - 0s 15ms/step - loss: 0.6166 - accuracy: 0.6299 - f1_m: 0.9548 - precision_m: 0.6292 - recall_m: 2.0000 - val_loss: 0.6235 - val_accuracy: 0.6273 - val_f1_m: 0.9174 - val_precision_m: 0.5993 - val_recall_m: 2.0000\n",
            "Epoch 13/50\n",
            "8/8 [==============================] - 0s 13ms/step - loss: 0.6071 - accuracy: 0.6181 - f1_m: 0.9526 - precision_m: 0.6297 - recall_m: 2.0000 - val_loss: 0.6167 - val_accuracy: 0.6091 - val_f1_m: 0.9174 - val_precision_m: 0.5993 - val_recall_m: 2.0000\n",
            "Epoch 14/50\n",
            "8/8 [==============================] - 0s 16ms/step - loss: 0.5891 - accuracy: 0.6220 - f1_m: 0.9567 - precision_m: 0.6307 - recall_m: 2.0000 - val_loss: 0.6035 - val_accuracy: 0.6273 - val_f1_m: 0.9174 - val_precision_m: 0.5993 - val_recall_m: 2.0000\n",
            "Epoch 15/50\n",
            "8/8 [==============================] - 0s 15ms/step - loss: 0.5633 - accuracy: 0.6260 - f1_m: 0.9562 - precision_m: 0.6307 - recall_m: 2.0000 - val_loss: 0.5815 - val_accuracy: 0.6545 - val_f1_m: 0.9174 - val_precision_m: 0.5993 - val_recall_m: 2.0000\n",
            "Epoch 16/50\n",
            "8/8 [==============================] - 0s 29ms/step - loss: 0.5305 - accuracy: 0.7323 - f1_m: 0.9566 - precision_m: 0.6302 - recall_m: 2.0000 - val_loss: 0.5538 - val_accuracy: 0.6727 - val_f1_m: 0.9174 - val_precision_m: 0.5993 - val_recall_m: 2.0000\n",
            "Epoch 17/50\n",
            "8/8 [==============================] - 0s 16ms/step - loss: 0.4868 - accuracy: 0.7087 - f1_m: 0.9527 - precision_m: 0.6276 - recall_m: 1.9803 - val_loss: 0.5301 - val_accuracy: 0.8000 - val_f1_m: 0.9174 - val_precision_m: 0.5993 - val_recall_m: 2.0000\n",
            "Epoch 18/50\n",
            "8/8 [==============================] - 0s 14ms/step - loss: 0.4439 - accuracy: 0.8346 - f1_m: 0.9514 - precision_m: 0.6279 - recall_m: 1.9806 - val_loss: 0.4830 - val_accuracy: 0.8364 - val_f1_m: 0.9174 - val_precision_m: 0.5993 - val_recall_m: 2.0000\n",
            "Epoch 19/50\n",
            "8/8 [==============================] - 0s 22ms/step - loss: 0.4317 - accuracy: 0.8110 - f1_m: 0.9479 - precision_m: 0.6260 - recall_m: 1.9690 - val_loss: 0.4905 - val_accuracy: 0.8091 - val_f1_m: 0.9174 - val_precision_m: 0.5993 - val_recall_m: 2.0000\n",
            "Epoch 20/50\n",
            "8/8 [==============================] - 0s 22ms/step - loss: 0.4198 - accuracy: 0.8346 - f1_m: 0.9455 - precision_m: 0.6257 - recall_m: 1.9651 - val_loss: 0.4497 - val_accuracy: 0.8273 - val_f1_m: 0.8986 - val_precision_m: 0.5899 - val_recall_m: 1.9226\n",
            "Epoch 21/50\n",
            "8/8 [==============================] - 0s 24ms/step - loss: 0.3884 - accuracy: 0.8622 - f1_m: 0.9406 - precision_m: 0.6257 - recall_m: 1.9289 - val_loss: 0.4484 - val_accuracy: 0.8364 - val_f1_m: 0.8986 - val_precision_m: 0.5899 - val_recall_m: 1.9226\n",
            "Epoch 22/50\n",
            "8/8 [==============================] - 0s 23ms/step - loss: 0.3738 - accuracy: 0.8465 - f1_m: 0.9112 - precision_m: 0.6099 - recall_m: 1.8266 - val_loss: 0.4229 - val_accuracy: 0.8545 - val_f1_m: 0.8848 - val_precision_m: 0.5839 - val_recall_m: 1.8565\n",
            "Epoch 23/50\n",
            "8/8 [==============================] - 0s 22ms/step - loss: 0.3498 - accuracy: 0.8858 - f1_m: 0.9357 - precision_m: 0.6343 - recall_m: 1.8236 - val_loss: 0.4334 - val_accuracy: 0.8364 - val_f1_m: 0.9222 - val_precision_m: 0.6171 - val_recall_m: 1.8451\n",
            "Epoch 24/50\n",
            "8/8 [==============================] - 0s 27ms/step - loss: 0.3409 - accuracy: 0.8819 - f1_m: 0.9267 - precision_m: 0.6351 - recall_m: 1.7488 - val_loss: 0.4010 - val_accuracy: 0.8636 - val_f1_m: 0.8882 - val_precision_m: 0.5978 - val_recall_m: 1.7439\n",
            "Epoch 25/50\n",
            "8/8 [==============================] - 0s 26ms/step - loss: 0.3257 - accuracy: 0.8701 - f1_m: 0.9303 - precision_m: 0.6429 - recall_m: 1.7092 - val_loss: 0.4112 - val_accuracy: 0.8455 - val_f1_m: 0.9035 - val_precision_m: 0.6115 - val_recall_m: 1.7439\n",
            "Epoch 26/50\n",
            "8/8 [==============================] - 0s 12ms/step - loss: 0.3102 - accuracy: 0.8937 - f1_m: 0.9307 - precision_m: 0.6447 - recall_m: 1.6906 - val_loss: 0.3779 - val_accuracy: 0.9000 - val_f1_m: 0.8944 - val_precision_m: 0.6037 - val_recall_m: 1.7439\n",
            "Epoch 27/50\n",
            "8/8 [==============================] - 0s 25ms/step - loss: 0.3127 - accuracy: 0.8898 - f1_m: 0.9310 - precision_m: 0.6447 - recall_m: 1.6836 - val_loss: 0.3851 - val_accuracy: 0.8636 - val_f1_m: 0.9132 - val_precision_m: 0.6200 - val_recall_m: 1.7439\n",
            "Epoch 28/50\n",
            "8/8 [==============================] - 0s 14ms/step - loss: 0.2974 - accuracy: 0.8937 - f1_m: 0.9200 - precision_m: 0.6374 - recall_m: 1.6637 - val_loss: 0.3591 - val_accuracy: 0.8909 - val_f1_m: 0.8930 - val_precision_m: 0.6066 - val_recall_m: 1.7064\n",
            "Epoch 29/50\n",
            "8/8 [==============================] - 0s 27ms/step - loss: 0.2866 - accuracy: 0.9134 - f1_m: 0.9313 - precision_m: 0.6462 - recall_m: 1.6686 - val_loss: 0.3828 - val_accuracy: 0.8545 - val_f1_m: 0.9168 - val_precision_m: 0.6280 - val_recall_m: 1.7081\n",
            "Epoch 30/50\n",
            "8/8 [==============================] - 0s 18ms/step - loss: 0.2815 - accuracy: 0.8898 - f1_m: 0.9313 - precision_m: 0.6485 - recall_m: 1.6622 - val_loss: 0.3459 - val_accuracy: 0.9000 - val_f1_m: 0.9059 - val_precision_m: 0.6192 - val_recall_m: 1.6939\n",
            "Epoch 31/50\n",
            "8/8 [==============================] - 0s 18ms/step - loss: 0.2777 - accuracy: 0.8898 - f1_m: 0.9253 - precision_m: 0.6455 - recall_m: 1.6526 - val_loss: 0.3673 - val_accuracy: 0.8545 - val_f1_m: 0.9130 - val_precision_m: 0.6279 - val_recall_m: 1.6831\n",
            "Epoch 32/50\n",
            "8/8 [==============================] - 0s 19ms/step - loss: 0.2627 - accuracy: 0.9094 - f1_m: 0.9241 - precision_m: 0.6453 - recall_m: 1.6370 - val_loss: 0.3366 - val_accuracy: 0.9000 - val_f1_m: 0.9133 - val_precision_m: 0.6276 - val_recall_m: 1.6820\n",
            "Epoch 33/50\n",
            "8/8 [==============================] - 0s 13ms/step - loss: 0.2672 - accuracy: 0.9055 - f1_m: 0.8981 - precision_m: 0.6329 - recall_m: 1.5684 - val_loss: 0.3586 - val_accuracy: 0.8545 - val_f1_m: 0.9127 - val_precision_m: 0.6295 - val_recall_m: 1.6706\n",
            "Epoch 34/50\n",
            "8/8 [==============================] - 0s 17ms/step - loss: 0.2586 - accuracy: 0.9055 - f1_m: 0.9412 - precision_m: 0.6666 - recall_m: 1.6355 - val_loss: 0.3372 - val_accuracy: 0.8909 - val_f1_m: 0.9090 - val_precision_m: 0.6241 - val_recall_m: 1.6820\n",
            "Epoch 35/50\n",
            "8/8 [==============================] - 0s 24ms/step - loss: 0.2500 - accuracy: 0.9291 - f1_m: 0.8955 - precision_m: 0.6363 - recall_m: 1.5343 - val_loss: 0.3241 - val_accuracy: 0.9000 - val_f1_m: 0.9165 - val_precision_m: 0.6307 - val_recall_m: 1.6820\n",
            "Epoch 36/50\n",
            "8/8 [==============================] - 0s 18ms/step - loss: 0.2502 - accuracy: 0.9291 - f1_m: 0.9190 - precision_m: 0.6513 - recall_m: 1.5733 - val_loss: 0.3552 - val_accuracy: 0.8636 - val_f1_m: 0.9126 - val_precision_m: 0.6311 - val_recall_m: 1.6593\n",
            "Epoch 37/50\n",
            "8/8 [==============================] - 0s 14ms/step - loss: 0.2504 - accuracy: 0.9173 - f1_m: 0.8787 - precision_m: 0.6257 - recall_m: 1.4869 - val_loss: 0.3152 - val_accuracy: 0.9000 - val_f1_m: 0.9032 - val_precision_m: 0.6251 - val_recall_m: 1.6354\n",
            "Epoch 38/50\n",
            "8/8 [==============================] - 0s 12ms/step - loss: 0.2322 - accuracy: 0.9291 - f1_m: 0.8882 - precision_m: 0.6365 - recall_m: 1.4884 - val_loss: 0.3660 - val_accuracy: 0.8545 - val_f1_m: 0.9227 - val_precision_m: 0.6410 - val_recall_m: 1.6593\n",
            "Epoch 39/50\n",
            "8/8 [==============================] - 0s 25ms/step - loss: 0.2414 - accuracy: 0.9016 - f1_m: 0.9186 - precision_m: 0.6598 - recall_m: 1.5456 - val_loss: 0.3097 - val_accuracy: 0.9000 - val_f1_m: 0.8994 - val_precision_m: 0.6234 - val_recall_m: 1.6235\n",
            "Epoch 40/50\n",
            "8/8 [==============================] - 0s 14ms/step - loss: 0.2444 - accuracy: 0.9094 - f1_m: 0.8554 - precision_m: 0.6168 - recall_m: 1.4105 - val_loss: 0.3305 - val_accuracy: 0.8636 - val_f1_m: 0.9091 - val_precision_m: 0.6296 - val_recall_m: 1.6473\n",
            "Epoch 41/50\n",
            "8/8 [==============================] - 0s 13ms/step - loss: 0.2388 - accuracy: 0.9134 - f1_m: 0.9178 - precision_m: 0.6563 - recall_m: 1.5333 - val_loss: 0.3219 - val_accuracy: 0.8909 - val_f1_m: 0.9168 - val_precision_m: 0.6384 - val_recall_m: 1.6360\n",
            "Epoch 42/50\n",
            "8/8 [==============================] - 0s 22ms/step - loss: 0.2255 - accuracy: 0.9331 - f1_m: 0.8652 - precision_m: 0.6275 - recall_m: 1.4104 - val_loss: 0.3032 - val_accuracy: 0.9091 - val_f1_m: 0.9054 - val_precision_m: 0.6314 - val_recall_m: 1.6116\n",
            "Epoch 43/50\n",
            "8/8 [==============================] - 0s 20ms/step - loss: 0.2248 - accuracy: 0.9331 - f1_m: 0.8823 - precision_m: 0.6416 - recall_m: 1.4345 - val_loss: 0.3157 - val_accuracy: 0.8909 - val_f1_m: 0.9094 - val_precision_m: 0.6352 - val_recall_m: 1.6122\n",
            "Epoch 44/50\n",
            "8/8 [==============================] - 0s 14ms/step - loss: 0.2174 - accuracy: 0.9370 - f1_m: 0.8669 - precision_m: 0.6315 - recall_m: 1.4005 - val_loss: 0.2983 - val_accuracy: 0.9091 - val_f1_m: 0.8725 - val_precision_m: 0.6155 - val_recall_m: 1.5104\n",
            "Epoch 45/50\n",
            "8/8 [==============================] - 0s 20ms/step - loss: 0.2118 - accuracy: 0.9409 - f1_m: 0.8665 - precision_m: 0.6295 - recall_m: 1.3944 - val_loss: 0.3119 - val_accuracy: 0.8818 - val_f1_m: 0.9086 - val_precision_m: 0.6352 - val_recall_m: 1.6122\n",
            "Epoch 46/50\n",
            "8/8 [==============================] - 0s 25ms/step - loss: 0.2118 - accuracy: 0.9370 - f1_m: 0.8836 - precision_m: 0.6416 - recall_m: 1.4256 - val_loss: 0.2971 - val_accuracy: 0.8909 - val_f1_m: 0.8726 - val_precision_m: 0.6176 - val_recall_m: 1.4990\n",
            "Epoch 47/50\n",
            "8/8 [==============================] - 0s 12ms/step - loss: 0.2071 - accuracy: 0.9449 - f1_m: 0.8646 - precision_m: 0.6302 - recall_m: 1.3913 - val_loss: 0.2985 - val_accuracy: 0.9000 - val_f1_m: 0.8726 - val_precision_m: 0.6176 - val_recall_m: 1.4990\n",
            "Epoch 48/50\n",
            "8/8 [==============================] - 0s 20ms/step - loss: 0.2059 - accuracy: 0.9409 - f1_m: 0.8653 - precision_m: 0.6356 - recall_m: 1.3936 - val_loss: 0.2952 - val_accuracy: 0.8909 - val_f1_m: 0.8683 - val_precision_m: 0.6157 - val_recall_m: 1.4871\n",
            "Epoch 49/50\n",
            "8/8 [==============================] - 0s 26ms/step - loss: 0.2038 - accuracy: 0.9449 - f1_m: 0.8750 - precision_m: 0.6391 - recall_m: 1.3941 - val_loss: 0.2930 - val_accuracy: 0.8909 - val_f1_m: 0.8714 - val_precision_m: 0.6213 - val_recall_m: 1.4746\n",
            "Epoch 50/50\n",
            "8/8 [==============================] - 0s 26ms/step - loss: 0.2033 - accuracy: 0.9409 - f1_m: 0.8468 - precision_m: 0.6224 - recall_m: 1.3435 - val_loss: 0.2869 - val_accuracy: 0.9000 - val_f1_m: 0.8644 - val_precision_m: 0.6138 - val_recall_m: 1.4746\n"
          ]
        }
      ]
    },
    {
      "cell_type": "code",
      "source": [
        "prediction_features = model.predict(X_test)\n",
        "performance = model.evaluate(X_test, y_test)\n",
        "print(performance)"
      ],
      "metadata": {
        "colab": {
          "base_uri": "https://localhost:8080/"
        },
        "id": "jGFC0rANKa3b",
        "outputId": "81696f9f-8de1-4e7f-e22b-d51854b4bcff"
      },
      "execution_count": 20,
      "outputs": [
        {
          "output_type": "stream",
          "name": "stdout",
          "text": [
            "5/5 [==============================] - 0s 7ms/step - loss: 0.2208 - accuracy: 0.9295 - f1_m: 0.8097 - precision_m: 0.5751 - recall_m: 1.3800\n",
            "[0.22079069912433624, 0.9294871687889099, 0.809725284576416, 0.575056254863739, 1.3800396919250488]\n"
          ]
        }
      ]
    },
    {
      "cell_type": "code",
      "source": [
        "loss, accuracy, f1_score, precision, recall = model.evaluate(X_test, y_test, verbose=0)\n",
        "print(\"Accuracy \" + str(accuracy) + \":\\n\\ff1_score = \" + str(f1_score) +\n",
        "          \"\\nPrecision = \" + str(precision) + \"\\nRecall = \" + str(recall))"
      ],
      "metadata": {
        "colab": {
          "base_uri": "https://localhost:8080/"
        },
        "id": "smL4QUgdDupJ",
        "outputId": "af231ae7-ff9b-4828-e6bb-8cd49462a09e"
      },
      "execution_count": 21,
      "outputs": [
        {
          "output_type": "stream",
          "name": "stdout",
          "text": [
            "Accuracy 0.9294871687889099:\n",
            "\ff1_score = 0.809725284576416\n",
            "Precision = 0.575056254863739\n",
            "Recall = 1.3800396919250488\n"
          ]
        }
      ]
    }
  ]
}